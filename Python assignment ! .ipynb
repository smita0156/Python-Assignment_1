{
 "cells": [
  {
   "cell_type": "code",
   "execution_count": null,
   "id": "be17623e-efd7-4c8b-b31f-cbaadc8e092a",
   "metadata": {},
   "outputs": [],
   "source": [
    "1.ans-  *: expression"
   ]
  },
  {
   "cell_type": "code",
   "execution_count": null,
   "id": "b4f7587b-52ae-4bb7-b600-c8aa335b94c0",
   "metadata": {},
   "outputs": [],
   "source": [
    "'hello':value"
   ]
  },
  {
   "cell_type": "code",
   "execution_count": null,
   "id": "53ae211a-85b9-4ae9-a009-76346032dfaf",
   "metadata": {},
   "outputs": [],
   "source": [
    "- 87.8 : value"
   ]
  },
  {
   "cell_type": "code",
   "execution_count": null,
   "id": "78412f8a-85ba-4459-bb70-446395a02cb3",
   "metadata": {},
   "outputs": [],
   "source": [
    "- : expression"
   ]
  },
  {
   "cell_type": "code",
   "execution_count": null,
   "id": "93922adc-f8bb-4330-bb00-3fefb2627913",
   "metadata": {},
   "outputs": [],
   "source": [
    "/ : expression"
   ]
  },
  {
   "cell_type": "code",
   "execution_count": null,
   "id": "720dd2fa-594a-480d-86c8-c4d2d1e008aa",
   "metadata": {},
   "outputs": [],
   "source": [
    "6 : value"
   ]
  },
  {
   "cell_type": "code",
   "execution_count": null,
   "id": "5158aec3-ede6-4e57-b43c-f6298886c13b",
   "metadata": {},
   "outputs": [],
   "source": []
  },
  {
   "cell_type": "code",
   "execution_count": null,
   "id": "93dc9c3c-0223-4fe3-8ed1-eed757478dce",
   "metadata": {},
   "outputs": [],
   "source": [
    "#Ans2. Variables are nothing but reserved memory locations to store values. This means that when we create a variable we reserve some space in memory."
   ]
  },
  {
   "cell_type": "code",
   "execution_count": null,
   "id": "ecb06dad-77ba-47fd-afce-10bd8b5bed7f",
   "metadata": {},
   "outputs": [],
   "source": [
    "#Based on the data type of a variable, the interpreter allocates memory and decides what can be stored in the reserved memory. Therefore, by assigning different data types to variables, you can store integers, decimals or characters in these variables. The classification or categorization of data items such as boolean, integer, string, void, character etc. Is called its data type. Hence, “String” is a datatype, whose value can be stored in a variable to reserve some space in the memory."
   ]
  },
  {
   "cell_type": "code",
   "execution_count": null,
   "id": "c0954047-d3c1-4aae-a454-18e2a5ecb2e2",
   "metadata": {},
   "outputs": [],
   "source": []
  },
  {
   "cell_type": "code",
   "execution_count": null,
   "id": "b0a7ee46-c004-439f-b38e-7df1e685a8ae",
   "metadata": {},
   "outputs": [],
   "source": [
    "Ans3. Integer,float,string"
   ]
  },
  {
   "cell_type": "code",
   "execution_count": null,
   "id": "f0bd570d-5475-4dd7-962f-900474edd36c",
   "metadata": {},
   "outputs": [],
   "source": [
    "#Integers – This value is represented by int class. It contains positive or negative whole numbers (without fractions or decimals). In Python, there is no limit to how long an integer value can be. Float – This value is represented by the float class."
   ]
  },
  {
   "cell_type": "code",
   "execution_count": null,
   "id": "5b8086ee-50cc-492e-8ea6-f3fdd2eadfd5",
   "metadata": {},
   "outputs": [],
   "source": [
    "#A float is a type of value in Python. When called, float() returns a floating point number or a decimal point for a provided number or string. Float values in Python are represented as 64-bit double-precision values. 1.8 x 10308 is the maximum value for any floating-point number."
   ]
  },
  {
   "cell_type": "code",
   "execution_count": null,
   "id": "cbefe2a7-d54f-4fe1-9b0e-3ce0f920a0ff",
   "metadata": {},
   "outputs": [],
   "source": [
    "# Strings in Python are arrays of bytes representing Unicode characters. A string is a collection of one or more characters put in a single quote, double-quote, or triple-quote. In python there is no character data type, a character is a string of length one. It is represented by str class."
   ]
  },
  {
   "cell_type": "code",
   "execution_count": null,
   "id": "18f2c524-ead8-43f1-ade7-a4eaa1e8dac5",
   "metadata": {},
   "outputs": [],
   "source": []
  },
  {
   "cell_type": "code",
   "execution_count": null,
   "id": "ed282d5f-7e3e-4100-88a1-2b77ecc168cd",
   "metadata": {},
   "outputs": [],
   "source": [
    "Ans4. #Anexpressionis a combination of values, variables, operators, and calls to functions.Expressionsneed to be evaluated. If you ask Python toprintan expression, the interpreterevaluatesthe expression and displays the result.For example: print(43+11) #this will print 54"
   ]
  },
  {
   "cell_type": "code",
   "execution_count": null,
   "id": "18015da5-8b77-4f97-a6f3-b2305a9efc8e",
   "metadata": {},
   "outputs": [],
   "source": []
  },
  {
   "cell_type": "code",
   "execution_count": null,
   "id": "5fa369a6-ff48-4f3e-947e-da67ec9f0f65",
   "metadata": {},
   "outputs": [],
   "source": [
    "Ans.5 # Astatementis an instruction that the Python interpreter can execute.“spam=10” is an example of assignment statement.Some other kinds of statements arewhilestatements,forstatements,ifstatements, andimportstatementsetc. Anexpressionis a combination of values, variables, operators, and calls to functions.Expressionsneed to be evaluated."
   ]
  },
  {
   "cell_type": "code",
   "execution_count": null,
   "id": "18e2f97b-c8d1-4979-ba42-a66eae37a872",
   "metadata": {},
   "outputs": [],
   "source": []
  },
  {
   "cell_type": "code",
   "execution_count": null,
   "id": "ea731880-a130-42bd-b005-9ab4c8d92794",
   "metadata": {},
   "outputs": [],
   "source": [
    "Ans6. # 22, since bacon+1 is not stored in any variable. "
   ]
  },
  {
   "cell_type": "code",
   "execution_count": null,
   "id": "4f5d7e63-beb7-4a9e-acd2-60919e605fb0",
   "metadata": {},
   "outputs": [],
   "source": []
  },
  {
   "cell_type": "code",
   "execution_count": null,
   "id": "afc1f66d-4db0-46d2-96e1-ecf741530559",
   "metadata": {},
   "outputs": [],
   "source": [
    "Ans7. # 'spam' + 'spamspam' :spamspamspam 'spam' * 3 :spamspamspam"
   ]
  },
  {
   "cell_type": "code",
   "execution_count": null,
   "id": "2ff3dd99-8e57-477f-83bc-3f9137c2963e",
   "metadata": {},
   "outputs": [],
   "source": []
  },
  {
   "cell_type": "code",
   "execution_count": null,
   "id": "b089ce1f-24d8-4958-b9c4-3f4d0645f5a9",
   "metadata": {},
   "outputs": [],
   "source": [
    "Ans8. #  Because variable names cannot begin with a number.\n"
   ]
  },
  {
   "cell_type": "code",
   "execution_count": null,
   "id": "f573617b-dc1e-4c11-85a8-a715b18641e6",
   "metadata": {},
   "outputs": [],
   "source": []
  },
  {
   "cell_type": "code",
   "execution_count": null,
   "id": "93d1a128-5f6b-4f78-b820-f5d024be7b4d",
   "metadata": {},
   "outputs": [],
   "source": []
  },
  {
   "cell_type": "code",
   "execution_count": null,
   "id": "261e604b-25b1-43b3-9126-59bfb072550f",
   "metadata": {},
   "outputs": [],
   "source": []
  }
 ],
 "metadata": {
  "kernelspec": {
   "display_name": "Python 3 (ipykernel)",
   "language": "python",
   "name": "python3"
  },
  "language_info": {
   "codemirror_mode": {
    "name": "ipython",
    "version": 3
   },
   "file_extension": ".py",
   "mimetype": "text/x-python",
   "name": "python",
   "nbconvert_exporter": "python",
   "pygments_lexer": "ipython3",
   "version": "3.10.6"
  }
 },
 "nbformat": 4,
 "nbformat_minor": 5
}
